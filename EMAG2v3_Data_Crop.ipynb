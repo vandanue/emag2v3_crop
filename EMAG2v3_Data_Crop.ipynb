{
 "cells": [
  {
   "cell_type": "markdown",
   "id": "ab391f93",
   "metadata": {},
   "source": [
    "# EMAG2v3 Data Crop\n",
    "Author: Annora Vandanu Erlangga\n",
    "\n",
    "How to use:\n",
    "- Change the directory/path of the data\n",
    "- Define the mininumum and maximum latitude and longitude parameter"
   ]
  },
  {
   "cell_type": "markdown",
   "id": "ff878778",
   "metadata": {},
   "source": [
    "## Read data file\n",
    "I prefer to download EMAG2 data in `.npz` format since it’s way smaller than `.csv` (but later I'll convert it to `.csv` later anw). The data can be downloaded from [here](https://zenodo.org/records/3245551)."
   ]
  },
  {
   "cell_type": "code",
   "execution_count": 29,
   "id": "c78d84df",
   "metadata": {},
   "outputs": [],
   "source": [
    "import pandas as pd\n",
    "import numpy as np"
   ]
  },
  {
   "cell_type": "code",
   "execution_count": 30,
   "id": "e6f4d879",
   "metadata": {},
   "outputs": [
    {
     "name": "stdout",
     "output_type": "stream",
     "text": [
      "['data']\n",
      "[ 1.6666668e-02 -8.9983330e+01  9.9999000e+04 -1.0130384e+02\n",
      "  5.8000000e+01]\n"
     ]
    }
   ],
   "source": [
    "data = np.load('./EMAG2_V3_20170530.npz')\n",
    "print(data.files)\n",
    "print(data['data'][0])"
   ]
  },
  {
   "cell_type": "markdown",
   "id": "7b55ea01",
   "metadata": {},
   "source": [
    "**EMAG2_V3_20170530.npz** contains the following columns:\n",
    "1. LON = Geographic Longitude WGS84 (decimal degrees)\n",
    "2. LAT = Geographic Latitude WGS84 (decimal degrees)\n",
    "3. SeaLevel = Magnetic Anomaly Value at Sea Level(nT)\n",
    "4. UpCont = Magnetic Anomaly Value at continuous 4km altitude (nT)\n",
    "5. Code = Data Source Code (see table below)\n",
    "6. Error = Error estimate (nT)\n",
    "\n",
    "Code 888 is assigned in certain cells on grid edges where the data source is ambiguous and assigned an error of -888 nT\n",
    "\n",
    "Code 999 is assigned in cells where no data is reported with the anomaly value assigned 99999 nT and an error of -999 nT"
   ]
  },
  {
   "cell_type": "markdown",
   "id": "1d3f5591",
   "metadata": {},
   "source": [
    "## Set `.npz` into pandas dataframe"
   ]
  },
  {
   "cell_type": "code",
   "execution_count": 35,
   "id": "7dbe3365",
   "metadata": {},
   "outputs": [],
   "source": [
    "numpy_array = data['data']\n",
    "df = pd.DataFrame(numpy_array)"
   ]
  },
  {
   "cell_type": "code",
   "execution_count": 37,
   "id": "5ae60464",
   "metadata": {},
   "outputs": [
    {
     "name": "stdout",
     "output_type": "stream",
     "text": [
      "               LON       LAT  SeaLevel      UpCont  Error\n",
      "0         0.016667 -89.98333   99999.0 -101.303841   58.0\n",
      "1         0.050000 -89.98333   99999.0 -101.443092   58.0\n",
      "2         0.083333 -89.98333   99999.0 -101.688683   58.0\n",
      "3         0.116667 -89.98333   99999.0 -101.978600   58.0\n",
      "4         0.150000 -89.98333   99999.0 -102.401047   58.0\n",
      "...            ...       ...       ...         ...    ...\n",
      "58319995 -0.150000  89.98333   99999.0  -99.207596  167.0\n",
      "58319996 -0.116667  89.98333   99999.0  -99.201698  167.0\n",
      "58319997 -0.083333  89.98333   99999.0  -99.195808  167.0\n",
      "58319998 -0.050000  89.98333   99999.0  -99.189903  167.0\n",
      "58319999 -0.016667  89.98333   99999.0  -99.184006  167.0\n",
      "\n",
      "[58320000 rows x 5 columns]\n"
     ]
    }
   ],
   "source": [
    "# Assign column\n",
    "df.columns = ['LON', 'LAT', 'SeaLevel', 'UpCont', 'Error']\n",
    "print(df)"
   ]
  },
  {
   "cell_type": "markdown",
   "id": "eaa98c15",
   "metadata": {},
   "source": [
    "## Define coordinate boundary"
   ]
  },
  {
   "cell_type": "code",
   "execution_count": 43,
   "id": "9d57197b",
   "metadata": {},
   "outputs": [],
   "source": [
    "min_lat, max_lat = -7.8, -7.6  # Minimum and maximum latitude\n",
    "min_lon, max_lon = 112.4, 112.7  # Minimum and maximum longitude\n",
    "\n",
    "if 'LAT' in df.columns and 'LON' in df.columns:\n",
    "    cropped_df = df[\n",
    "        (df['LAT'] >= min_lat) & (df['LAT'] <= max_lat) &\n",
    "        (df['LON'] >= min_lon) & (df['LON'] <= max_lon)\n",
    "    ]\n",
    "else:\n",
    "    print(\"Error: 'LAT' or 'LON' columns not found in the dataframe\")\n",
    "    exit()\n",
    "\n",
    "output = 'crop_EMAG2_V3.csv'\n",
    "cropped_df.to_csv(output, index=False)"
   ]
  }
 ],
 "metadata": {
  "kernelspec": {
   "display_name": "Python 3 (ipykernel)",
   "language": "python",
   "name": "python3"
  },
  "language_info": {
   "codemirror_mode": {
    "name": "ipython",
    "version": 3
   },
   "file_extension": ".py",
   "mimetype": "text/x-python",
   "name": "python",
   "nbconvert_exporter": "python",
   "pygments_lexer": "ipython3",
   "version": "3.12.3"
  }
 },
 "nbformat": 4,
 "nbformat_minor": 5
}
